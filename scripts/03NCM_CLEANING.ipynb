{
 "cells": [
  {
   "cell_type": "code",
   "execution_count": null,
   "metadata": {},
   "outputs": [],
   "source": [
    "import pandas as pd\n",
    "import numpy as np\n",
    "from unidecode import unidecode\n",
    "\n",
    "import nltk\n",
    "from unidecode import unidecode\n",
    "from nltk.corpus import stopwords\n",
    "from nltk.tokenize import word_tokenize\n",
    "import re\n",
    "from sklearn.feature_extraction.text import TfidfVectorizer, CountVectorizer\n",
    "from sklearn.decomposition import PCA, TruncatedSVD\n",
    "from sklearn.preprocessing import Normalizer\n",
    "import matplotlib.pyplot as plt\n",
    "import seaborn as sns\n",
    "from sklearn.ensemble import IsolationForest\n",
    "from sklearn.cluster import KMeans, DBSCAN\n",
    "\n",
    "sns.set()\n",
    "sns.set_style('darkgrid')\n",
    "sns.set_palette('deep')\n",
    "\n",
    "\n",
    "nltk.download('stopwords')\n",
    "nltk.download('punkt')"
   ]
  },
  {
   "cell_type": "code",
   "execution_count": null,
   "metadata": {},
   "outputs": [],
   "source": [
    "data = pd.read_csv('nfedataNCM.csv', low_memory=False)"
   ]
  },
  {
   "cell_type": "code",
   "execution_count": null,
   "metadata": {},
   "outputs": [],
   "source": [
    "data.info()"
   ]
  },
  {
   "cell_type": "code",
   "execution_count": null,
   "metadata": {},
   "outputs": [],
   "source": [
    "data['produto_ncm_valido'] = np.zeros((data.shape[0],))"
   ]
  },
  {
   "cell_type": "code",
   "execution_count": null,
   "metadata": {},
   "outputs": [],
   "source": [
    "for ncm_code in data.loc[:, 'produto_ncm_capitulo'].unique():\n",
    "    mask = data.loc[:, 'produto_ncm_capitulo'] == str(ncm_code)\n",
    "    desc = data.loc[mask, 'produto_descricao']\n",
    "    desc = desc.apply(lambda x: str(x).lower())\n",
    "    desc = desc.apply(unidecode)\n",
    "    desc = desc.apply(lambda x: ' '.join(\n",
    "        [\n",
    "            w for w in word_tokenize(x) \n",
    "            if w not in stopwords.words('portuguese')\n",
    "            ]\n",
    "        )\n",
    "    )\n",
    "    desc = desc.apply(lambda x: re.sub(r'[0-9]{3,}', '', x))\n",
    "    cv = CountVectorizer(ngram_range=(1, 2))\n",
    "    desc_tf = cv.fit_transform(desc)\n",
    "\n",
    "    n_components = 20\n",
    "    pca = TruncatedSVD(n_components=n_components)\n",
    "    desc_pca = pca.fit_transform(desc_tf)\n",
    "    normalizer = Normalizer(copy=False, norm='l2')\n",
    "    desc_pca = normalizer.fit_transform(desc_pca)\n",
    "\n",
    "    dbs = DBSCAN(eps=0.4,)\n",
    "    desc_db = dbs.fit_predict(desc_pca)\n",
    "    desc_db[desc_db != 0] = -1\n",
    "    data.loc[mask, 'produto_ncm_valido'] = desc_db"
   ]
  },
  {
   "cell_type": "code",
   "execution_count": null,
   "metadata": {},
   "outputs": [],
   "source": [
    "data.to_csv('dataNCMClean.csv', index=False)"
   ]
  },
  {
   "cell_type": "code",
   "execution_count": null,
   "metadata": {},
   "outputs": [],
   "source": []
  }
 ],
 "metadata": {
  "interpreter": {
   "hash": "405abd14ff16bbcf8c693c2c7d3f7b5102466505fb51e0a9a6b851143bee253c"
  },
  "kernelspec": {
   "display_name": "Python 3.9.7 ('tce')",
   "language": "python",
   "name": "python3"
  },
  "language_info": {
   "codemirror_mode": {
    "name": "ipython",
    "version": 3
   },
   "file_extension": ".py",
   "mimetype": "text/x-python",
   "name": "python",
   "nbconvert_exporter": "python",
   "pygments_lexer": "ipython3",
   "version": "3.8.5"
  },
  "orig_nbformat": 4
 },
 "nbformat": 4,
 "nbformat_minor": 2
}

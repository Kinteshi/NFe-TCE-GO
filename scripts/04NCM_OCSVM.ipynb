{
 "cells": [
  {
   "cell_type": "code",
   "execution_count": 3,
   "metadata": {},
   "outputs": [
    {
     "name": "stderr",
     "output_type": "stream",
     "text": [
      "[nltk_data] Downloading package stopwords to\n",
      "[nltk_data]     C:\\Users\\jmarques\\AppData\\Roaming\\nltk_data...\n",
      "[nltk_data]   Package stopwords is already up-to-date!\n",
      "[nltk_data] Downloading package punkt to\n",
      "[nltk_data]     C:\\Users\\jmarques\\AppData\\Roaming\\nltk_data...\n",
      "[nltk_data]   Package punkt is already up-to-date!\n"
     ]
    },
    {
     "data": {
      "text/plain": [
       "True"
      ]
     },
     "execution_count": 3,
     "metadata": {},
     "output_type": "execute_result"
    }
   ],
   "source": [
    "import pandas as pd\n",
    "import numpy as np\n",
    "from unidecode import unidecode\n",
    "\n",
    "import nltk\n",
    "from unidecode import unidecode\n",
    "from nltk.corpus import stopwords\n",
    "from nltk.tokenize import word_tokenize\n",
    "import re\n",
    "from sklearn.feature_extraction.text import TfidfVectorizer, CountVectorizer\n",
    "from sklearn.decomposition import PCA, TruncatedSVD\n",
    "from sklearn.preprocessing import Normalizer\n",
    "import matplotlib.pyplot as plt\n",
    "import seaborn as sns\n",
    "from sklearn.svm import OneClassSVM\n",
    "\n",
    "sns.set()\n",
    "sns.set_style('darkgrid')\n",
    "sns.set_palette('deep')\n",
    "\n",
    "\n",
    "nltk.download('stopwords')\n",
    "nltk.download('punkt')"
   ]
  },
  {
   "cell_type": "code",
   "execution_count": 6,
   "metadata": {},
   "outputs": [],
   "source": [
    "ncm_code = '01'\n",
    "data = pd.read_csv('nfedataNCM.csv', low_memory=False)\n",
    "mask = data.loc[:, 'produto_ncm_capitulo'] == str(ncm_code)\n",
    "data = data.loc[mask, :]\n",
    "data['produto_ncm_valido'] = np.zeros((data.shape[0],))"
   ]
  },
  {
   "cell_type": "code",
   "execution_count": 7,
   "metadata": {},
   "outputs": [],
   "source": [
    "desc = data.loc[:, 'produto_descricao']\n",
    "desc = desc.apply(lambda x: str(x).lower())\n",
    "desc = desc.apply(unidecode)\n",
    "desc = desc.apply(lambda x: ' '.join(\n",
    "    [\n",
    "        w for w in word_tokenize(x) \n",
    "        if w not in stopwords.words('portuguese')\n",
    "        ]\n",
    "    )\n",
    ")\n",
    "desc = desc.apply(lambda x: re.sub(r'[0-9]{3,}', '', x))"
   ]
  },
  {
   "cell_type": "code",
   "execution_count": null,
   "metadata": {},
   "outputs": [],
   "source": [
    "cv = CountVectorizer(ngram_range=(1, 2))\n",
    "desc_tf = cv.fit_transform(desc)\n",
    "\n",
    "svm = OneClassSVM()\n",
    "desc_val = svm.fit_predict(desc_tf)\n",
    "data.loc[:, 'produto_ncm_valido'] = desc_val"
   ]
  },
  {
   "cell_type": "code",
   "execution_count": null,
   "metadata": {},
   "outputs": [],
   "source": [
    "data.to_csv(f'dataNCM{ncm_code}.csv', index=False)"
   ]
  }
 ],
 "metadata": {
  "interpreter": {
   "hash": "405abd14ff16bbcf8c693c2c7d3f7b5102466505fb51e0a9a6b851143bee253c"
  },
  "kernelspec": {
   "display_name": "Python 3.9.7 ('tce')",
   "language": "python",
   "name": "python3"
  },
  "language_info": {
   "codemirror_mode": {
    "name": "ipython",
    "version": 3
   },
   "file_extension": ".py",
   "mimetype": "text/x-python",
   "name": "python",
   "nbconvert_exporter": "python",
   "pygments_lexer": "ipython3",
   "version": "3.8.5"
  },
  "orig_nbformat": 4
 },
 "nbformat": 4,
 "nbformat_minor": 2
}

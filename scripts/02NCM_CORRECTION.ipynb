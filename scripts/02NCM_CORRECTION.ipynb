{
 "cells": [
  {
   "cell_type": "code",
   "execution_count": null,
   "metadata": {},
   "outputs": [],
   "source": [
    "import pandas as pd\n",
    "import numpy as np\n",
    "from unidecode import unidecode\n",
    "\n",
    "import nltk\n",
    "from unidecode import unidecode\n",
    "from nltk.corpus import stopwords\n",
    "from nltk.tokenize import word_tokenize\n",
    "import re\n",
    "from sklearn.feature_extraction.text import TfidfVectorizer, CountVectorizer\n",
    "from sklearn.decomposition import PCA, TruncatedSVD\n",
    "from sklearn.preprocessing import Normalizer\n",
    "import matplotlib.pyplot as plt\n",
    "import seaborn as sns\n",
    "from sklearn.ensemble import IsolationForest\n",
    "from sklearn.cluster import KMeans, DBSCAN\n",
    "\n",
    "sns.set()\n",
    "sns.set_style('darkgrid')\n",
    "sns.set_palette('deep')\n",
    "\n",
    "\n",
    "nltk.download('stopwords')\n",
    "nltk.download('punkt')"
   ]
  },
  {
   "cell_type": "code",
   "execution_count": null,
   "metadata": {},
   "outputs": [],
   "source": [
    "data = pd.read_csv('nfedata.csv', low_memory=False)"
   ]
  },
  {
   "cell_type": "code",
   "execution_count": null,
   "metadata": {},
   "outputs": [],
   "source": [
    "data.produto_codigo_ncm = data.produto_codigo_ncm.apply(str)\n",
    "data.produto_codigo_ncm = data.produto_codigo_ncm.apply(lambda x: x.zfill(8))\n",
    "data.produto_codigo_ncm = data.produto_codigo_ncm.apply(lambda x: 'INVALIDO' if x[0:2] in ['00', '77', '98', '99'] else x) # invalidando NCMs inexistentes\n",
    "\n",
    "data['produto_ncm_capitulo'] = data.produto_codigo_ncm.apply(lambda x: x[0:2] if x != 'INVALIDO' else 'INVALIDO')\n",
    "data['produto_ncm_posicao'] = data.produto_codigo_ncm.apply(lambda x: x[2:4] if x != 'INVALIDO' else 'INVALIDO')\n",
    "data['produto_ncm_subposicao'] = data.produto_codigo_ncm.apply(lambda x: x[4:6] if x != 'INVALIDO' else 'INVALIDO')\n",
    "data['produto_ncm_item'] = data.produto_codigo_ncm.apply(lambda x: x[6] if x != 'INVALIDO' else 'INVALIDO')\n",
    "data['produto_ncm_subitem'] = data.produto_codigo_ncm.apply(lambda x: x[7] if x != 'INVALIDO' else 'INVALIDO')"
   ]
  },
  {
   "cell_type": "code",
   "execution_count": null,
   "metadata": {},
   "outputs": [],
   "source": [
    "data.info()"
   ]
  },
  {
   "cell_type": "code",
   "execution_count": null,
   "metadata": {},
   "outputs": [],
   "source": [
    "data.to_csv('nfedataNCM.csv', index=False)"
   ]
  },
  {
   "cell_type": "code",
   "execution_count": null,
   "metadata": {},
   "outputs": [],
   "source": [
    "data.produto_ncm_capitulo.value_counts()"
   ]
  },
  {
   "cell_type": "code",
   "execution_count": null,
   "metadata": {},
   "outputs": [],
   "source": []
  }
 ],
 "metadata": {
  "interpreter": {
   "hash": "405abd14ff16bbcf8c693c2c7d3f7b5102466505fb51e0a9a6b851143bee253c"
  },
  "kernelspec": {
   "display_name": "Python 3.9.7 64-bit ('tce': conda)",
   "language": "python",
   "name": "python3"
  },
  "language_info": {
   "codemirror_mode": {
    "name": "ipython",
    "version": 3
   },
   "file_extension": ".py",
   "mimetype": "text/x-python",
   "name": "python",
   "nbconvert_exporter": "python",
   "pygments_lexer": "ipython3",
   "version": "3.8.5"
  },
  "orig_nbformat": 4
 },
 "nbformat": 4,
 "nbformat_minor": 2
}

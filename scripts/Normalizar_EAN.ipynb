{
 "cells": [
  {
   "cell_type": "code",
   "execution_count": 11,
   "metadata": {},
   "outputs": [
    {
     "name": "stderr",
     "output_type": "stream",
     "text": [
      "[nltk_data] Downloading package punkt to\n",
      "[nltk_data]     C:\\Users\\jefma\\AppData\\Roaming\\nltk_data...\n",
      "[nltk_data]   Package punkt is already up-to-date!\n",
      "[nltk_data] Downloading package stopwords to\n",
      "[nltk_data]     C:\\Users\\jefma\\AppData\\Roaming\\nltk_data...\n",
      "[nltk_data]   Package stopwords is already up-to-date!\n"
     ]
    },
    {
     "data": {
      "text/plain": [
       "True"
      ]
     },
     "execution_count": 11,
     "metadata": {},
     "output_type": "execute_result"
    }
   ],
   "source": [
    "import pandas as pd\n",
    "from unidecode import unidecode\n",
    "import nltk\n",
    "from nltk.corpus import stopwords\n",
    "from nltk.tokenize import word_tokenize\n",
    "import re\n",
    "\n",
    "nltk.download('punkt')\n",
    "nltk.download('stopwords')"
   ]
  },
  {
   "cell_type": "code",
   "execution_count": 12,
   "metadata": {},
   "outputs": [],
   "source": [
    "data = pd.read_csv('../data/nfedata.csv')"
   ]
  },
  {
   "cell_type": "code",
   "execution_count": 13,
   "metadata": {},
   "outputs": [],
   "source": [
    "data.loc[:, 'produto_codigo_ean'] = data.loc[:, 'produto_codigo_ean'].apply(str)\n",
    "data.loc[:, 'produto_codigo_ean'] = data.loc[:, 'produto_codigo_ean'].apply(lambda x: re.sub(r'^0*|[a-zA-Z ]*', '', x))\n",
    "data.loc[:, 'produto_codigo_ean'] = data.loc[:, 'produto_codigo_ean'].apply(lambda x: x.zfill(13) if x != '' else x)\n"
   ]
  },
  {
   "cell_type": "code",
   "execution_count": 14,
   "metadata": {},
   "outputs": [],
   "source": [
    "data.loc[:, 'produto_descricao'] = data.loc[:, 'produto_descricao'].apply(str)\n",
    "data.loc[:, 'produto_descricao'] = data.loc[:, 'produto_descricao'].apply(lambda x : x.lower())\n",
    "data.loc[:, 'produto_descricao'] = data.loc[:, 'produto_descricao'].apply(unidecode)\n",
    "data.loc[:, 'produto_descricao'] = data.loc[:, 'produto_descricao'].apply(lambda x: ' '.join(\n",
    "    [\n",
    "        w for w in word_tokenize(x)\n",
    "        if w not in stopwords.words('portuguese')\n",
    "    ]\n",
    ")\n",
    ")\n",
    "data.loc[:, 'produto_descricao'] = data.loc[:, 'produto_descricao'].apply(lambda x: re.sub(r'[0-9]{5,}', '', x))\n"
   ]
  },
  {
   "cell_type": "code",
   "execution_count": null,
   "metadata": {},
   "outputs": [],
   "source": [
    "data.to_csv('../data/nfedata_clean.csv', index=False)\n",
    "data.loc[data.loc[:, 'produto_codigo_ean'] == '', :].to_csv('../data/nfedata_clean_empty_ean.csv', index=False)\n",
    "data.loc[data.loc[:, 'produto_codigo_ean'] != '', :].to_csv('../data/nfedata_clean_non_empty_ean.csv', index=False)"
   ]
  }
 ],
 "metadata": {
  "interpreter": {
   "hash": "fb2241dd84d24fce0f6d13cd3007375d8775345fba65719499b77c7a197c874f"
  },
  "kernelspec": {
   "display_name": "Python 3.9.7 ('tce')",
   "language": "python",
   "name": "python3"
  },
  "language_info": {
   "codemirror_mode": {
    "name": "ipython",
    "version": 3
   },
   "file_extension": ".py",
   "mimetype": "text/x-python",
   "name": "python",
   "nbconvert_exporter": "python",
   "pygments_lexer": "ipython3",
   "version": "3.9.7"
  },
  "orig_nbformat": 4
 },
 "nbformat": 4,
 "nbformat_minor": 2
}
